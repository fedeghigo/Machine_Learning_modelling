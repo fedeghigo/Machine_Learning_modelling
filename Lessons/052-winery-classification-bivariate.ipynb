{
 "cells": [
  {
   "cell_type": "markdown",
   "metadata": {},
   "source": [
    "# Classificazione di vini attraverso gaussiane bidimensionali\n",
    "\n",
    "<img src=\"img/wine.jpg\" width=\"30%\"/>\n",
    "\n",
    "Il nostro primo modello generativo per la classificazione di vini utilizzava una sola feature. Ora utilizzeremo due feature, modellando ogni classe con una **gaussiana bivariata**. "
   ]
  },
  {
   "cell_type": "markdown",
   "metadata": {},
   "source": [
    "## 1. Caricamento del dataset"
   ]
  },
  {
   "cell_type": "markdown",
   "metadata": {},
   "source": [
    "Come nel caso univariato, iniziamo caricando il dataset. \n",
    "\n",
    "Ricordiamo che vi sono 178 osservazioni, ognuna con 13 feature ed una etichetta (1,2,3). Come prima, le divideremo in un training set di 130 osservazioni ed un test set di 48 osservazioni. "
   ]
  },
  {
   "cell_type": "code",
   "execution_count": 1,
   "metadata": {},
   "outputs": [],
   "source": [
    "%matplotlib inline\n",
    "import numpy as np\n",
    "import matplotlib.pyplot as plt\n",
    "# Modulo utile per gestire distribuzioni gaussiane\n",
    "from scipy.stats import norm, multivariate_normal \n",
    "# Pacchetti per la grafica interattiva\n",
    "import ipywidgets as widgets\n",
    "from IPython.display import display\n",
    "from ipywidgets import interact, interactive, fixed, interact_manual, IntSlider"
   ]
  },
  {
   "cell_type": "code",
   "execution_count": 2,
   "metadata": {},
   "outputs": [],
   "source": [
    "# Carichiamo il dataset\n",
    "data = np.loadtxt('data/wine.data.txt', delimiter=',')\n",
    "# Nomi delle feature\n",
    "featurenames = ['Alcool', 'Acido malico', 'Ceneri', 'Alcalinità delle ceneri', 'Magnesio', 'Fenoli totali', \n",
    "               'Flavonoidi', 'Fenoli non flavonoidi', 'Proantocianina', 'Intensità di colore', 'Tonalità',\n",
    "              'OD280/OD315', 'Prolina']\n",
    "# Suddividiamo le 178 istanze in un training set (trainx, trainy) di taglia 130 e un test set (testx, testy) di taglia 48\n",
    "np.random.seed(0)\n",
    "perm = np.random.permutation(178)\n",
    "trainx = data[perm[0:130],1:14]\n",
    "trainy = data[perm[0:130],0]\n",
    "testx = data[perm[130:178], 1:14]\n",
    "testy = data[perm[130:178],0]"
   ]
  },
  {
   "cell_type": "markdown",
   "metadata": {},
   "source": [
    "## 2. Costruzione della distribuzione di due feature da ognuna delle cantine"
   ]
  },
  {
   "cell_type": "markdown",
   "metadata": {},
   "source": [
    "Vogliamo graficare la distribuzione di due feature da qualche particolare cantina. Per far questo, useremo varie funzioni ausiliarie. "
   ]
  },
  {
   "cell_type": "markdown",
   "metadata": {},
   "source": [
    "La prima funzione ausiliaria fa il fit di una gaussiana su un dataset, restringendo l'attenzione a delle feature specificate. "
   ]
  },
  {
   "cell_type": "code",
   "execution_count": 3,
   "metadata": {},
   "outputs": [],
   "source": [
    "# Fa il fit di una gaussiana su un dataset usando le feature specificate\n",
    "def fit_gaussian(x, features):\n",
    "    mu = np.mean(x[:,features], axis=0)\n",
    "    covar = np.cov(x[:,features], rowvar=0, bias=1)\n",
    "    return mu, covar"
   ]
  },
  {
   "cell_type": "markdown",
   "metadata": {},
   "source": [
    "Per esempio, analizziamo la gaussiana ottenuta per la Cantina 1, usando le feature 0 ('alcool') e 6 ('flavonoidi')."
   ]
  },
  {
   "cell_type": "code",
   "execution_count": 4,
   "metadata": {},
   "outputs": [
    {
     "name": "stdout",
     "output_type": "stream",
     "text": [
      "Media:\n",
      "[13.78534884  2.99627907]\n",
      "Matrice di covarianza:\n",
      "[[0.23325279 0.07526874]\n",
      " [0.07526874 0.15240941]]\n"
     ]
    }
   ],
   "source": [
    "f1 = 0\n",
    "f2 = 6\n",
    "label = 1\n",
    "mu, covar = fit_gaussian(trainx[trainy==label,:], [f1,f2])\n",
    "print(\"Media:\\n\" + str(mu))\n",
    "print(\"Matrice di covarianza:\\n\" + str(covar))"
   ]
  },
  {
   "cell_type": "markdown",
   "metadata": {},
   "source": [
    "Ora, costruiamo una routine che grafichi dei punti campionati da una gaussiana bidimensionale, insieme ad alcune curve di livello. Per fare questo occorre anche decidere che intervalli mostrare su ogni asse. Iniziamo con una piccola funzione ausiliaria che prende in input un array di numeri (valori di un'unica feature) e restituisce il range in cui giacciono questi valori. "
   ]
  },
  {
   "cell_type": "code",
   "execution_count": 5,
   "metadata": {},
   "outputs": [],
   "source": [
    "# Trova il range in cui giace un array di valori, e aggiunge un 20% di margine a sinistra e a destra\n",
    "def find_range(x):\n",
    "    lower = min(x)\n",
    "    upper = max(x)\n",
    "    width = upper - lower\n",
    "    lower = lower - 0.2 * width\n",
    "    upper = upper + 0.2 * width\n",
    "    return lower, upper"
   ]
  },
  {
   "cell_type": "markdown",
   "metadata": {},
   "source": [
    "Ora definiamo una routine che disegna alcune curve di livello di una gaussiana bidimensionale data. \n",
    "La routine riceve come input: \n",
    "* `mu`, `cov`: i parametri della gaussiana\n",
    "* `x1g`, `x2g`: la griglia (lungo i due assi) sulla quale va calcolata la densità di probabilità\n",
    "* `col`: il colore delle curve di livello"
   ]
  },
  {
   "cell_type": "code",
   "execution_count": 6,
   "metadata": {},
   "outputs": [],
   "source": [
    "def plot_contours(mu, cov, x1g, x2g, col):\n",
    "    rv = multivariate_normal(mean=mu, cov=cov)\n",
    "    z = np.zeros((len(x1g),len(x2g)))\n",
    "    for i in range(0,len(x1g)):\n",
    "        for j in range(0,len(x2g)):\n",
    "            z[j,i] = rv.logpdf([x1g[i], x2g[j]]) \n",
    "    sign, logdet = np.linalg.slogdet(cov)\n",
    "    normalizer = -0.5 * (2 * np.log(6.28) + sign * logdet)\n",
    "    for offset in range(1,4):\n",
    "        plt.contour(x1g,x2g,z, levels=[normalizer - offset], colors=col, linewidths=2.0, linestyles='solid')"
   ]
  },
  {
   "cell_type": "markdown",
   "metadata": {},
   "source": [
    "La funzione **two_features_plot** riceve in input due feature ed un'etichetta, e grafica la distribuzione di quella coppia di feature per la cantina specificata.\n",
    "\n",
    "La prima riga ci permette di specificare i parametri interattivamente usando dei cursori. "
   ]
  },
  {
   "cell_type": "code",
   "execution_count": 7,
   "metadata": {},
   "outputs": [
    {
     "data": {
      "application/vnd.jupyter.widget-view+json": {
       "model_id": "4852040c11474269a65b2248ba28c197",
       "version_major": 2,
       "version_minor": 0
      },
      "text/plain": [
       "interactive(children=(IntSlider(value=0, description='f1', max=12), IntSlider(value=6, description='f2', max=1…"
      ]
     },
     "metadata": {},
     "output_type": "display_data"
    }
   ],
   "source": [
    "@interact_manual( f1=IntSlider(0,0,12,1), f2=IntSlider(6,0,12,1), label=IntSlider(1,1,3,1) )\n",
    "def two_features_plot(f1,f2,label):\n",
    "    if f1 == f2: # we need f1 != f2\n",
    "        print(\"Le feature f1 ed f2 devono essere distinte.\")\n",
    "        return  \n",
    "    \n",
    "    # Prepariamo il grafico\n",
    "    x1_lower, x1_upper = find_range(trainx[trainy==label,f1])\n",
    "    x2_lower, x2_upper = find_range(trainx[trainy==label,f2])\n",
    "    plt.xlim(x1_lower, x1_upper) # limit along x1-axis\n",
    "    plt.ylim(x2_lower, x2_upper) # limit along x2-axis\n",
    "    \n",
    "    # Grafichiamo i valori degli esempi di training lungo le due feature selezionate\n",
    "    plt.plot(trainx[trainy==label, f1], trainx[trainy==label, f2], 'ro')\n",
    "\n",
    "    # Definiamo una griglia lungo ogni asse; la densità sarà calcolata ad ogni punto della griglia\n",
    "    res = 200 # risoluzione\n",
    "    x1g = np.linspace(x1_lower, x1_upper, res)\n",
    "    x2g = np.linspace(x2_lower, x2_upper, res)\n",
    "\n",
    "    # Ora grafichiamo alcune curve di livello della densità di probabilità\n",
    "    mu, cov = fit_gaussian(trainx[trainy==label,:], [f1,f2])\n",
    "    plot_contours(mu, cov, x1g, x2g, 'k')\n",
    "    \n",
    "    # Infine, mostriamo il grafico\n",
    "    plt.xlabel(featurenames[f1], fontsize=14, color='red')\n",
    "    plt.ylabel(featurenames[f2], fontsize=14, color='red')\n",
    "    plt.title('Cantina ' + str(label), fontsize=14, color='blue')\n",
    "    plt.show()"
   ]
  },
  {
   "cell_type": "markdown",
   "metadata": {},
   "source": [
    "## 3. Costruzione di un fit gaussiano per ciascuna classe"
   ]
  },
  {
   "cell_type": "markdown",
   "metadata": {},
   "source": [
    "Definiamo ora una funzione che fa il fit di un modello generativo gaussiano per ognuna delle tre classi, ristrette ad una lista di feature date. La funzione restituisce: \n",
    "* `mu`: le medie delle gaussiane, una per riga\n",
    "* `covar`: le matrici di covarianza di ognuna delle gaussiane\n",
    "* `pi`: la lista dei pesi relativi delle tre classi, con somma 1"
   ]
  },
  {
   "cell_type": "code",
   "execution_count": 8,
   "metadata": {},
   "outputs": [],
   "source": [
    "# La funzione assume che l'etichetta y vari nell'insieme {1,2,3}\n",
    "def fit_generative_model(x, y, features):\n",
    "    k = 3 # numero di classi\n",
    "    d = len(features) # numero di feature\n",
    "    mu = np.zeros((k+1,d)) # lista dei vettori delle medie\n",
    "    covar = np.zeros((k+1,d,d)) # lista delle matrici di covarianza\n",
    "    pi = np.zeros(k+1) # vettore dei pesi delle classi\n",
    "    for label in range(1,k+1):\n",
    "        indices = (y==label)\n",
    "        mu[label,:], covar[label,:,:] = fit_gaussian(x[indices,:], features)\n",
    "        pi[label] = float(sum(indices))/float(len(y))\n",
    "    return mu, covar, pi"
   ]
  },
  {
   "cell_type": "markdown",
   "metadata": {},
   "source": [
    "Ora grafichiamo le tre gaussiane."
   ]
  },
  {
   "cell_type": "code",
   "execution_count": 9,
   "metadata": {},
   "outputs": [
    {
     "data": {
      "application/vnd.jupyter.widget-view+json": {
       "model_id": "2fe2aea7285446e1b9341b52e58ded24",
       "version_major": 2,
       "version_minor": 0
      },
      "text/plain": [
       "interactive(children=(IntSlider(value=0, description='f1', max=12), IntSlider(value=6, description='f2', max=1…"
      ]
     },
     "metadata": {},
     "output_type": "display_data"
    }
   ],
   "source": [
    "@interact_manual( f1=IntSlider(0,0,12,1), f2=IntSlider(6,0,12,1) )\n",
    "def three_class_plot(f1,f2):\n",
    "    if f1 == f2: # we need f1 != f2\n",
    "        print(\"Le feature f1 ed f2 devono essere distinte.\")\n",
    "        return  \n",
    "    \n",
    "    # Prepariamo il grafico\n",
    "    plt.figure(figsize=(15,10))\n",
    "    x1_lower, x1_upper = find_range(trainx[:,f1])\n",
    "    x2_lower, x2_upper = find_range(trainx[:,f2])\n",
    "    plt.xlim(x1_lower, x1_upper) # limit along x1-axis\n",
    "    plt.ylim(x2_lower, x2_upper) # limit along x2-axis\n",
    "    \n",
    "    # Grafichiamo i valori degli esempi di training lungo le due feature selezionate\n",
    "    colors = ['r', 'k', 'g']\n",
    "    for label in range(1,4):\n",
    "        plt.plot(trainx[trainy==label,f1], trainx[trainy==label,f2], marker='o', ls='None', c=colors[label-1])\n",
    "\n",
    "    # Definiamo una griglia lungo ogni asse; la densità sarà calcolata ad ogni punto della griglia\n",
    "    res = 200 # risoluzione\n",
    "    x1g = np.linspace(x1_lower, x1_upper, res)\n",
    "    x2g = np.linspace(x2_lower, x2_upper, res)\n",
    "\n",
    "    # Mostriamo il fit gaussiano di ciascuna classe, sulla base delle feature f1, f2\n",
    "    mu, covar, pi = fit_generative_model(trainx, trainy, [f1,f2])\n",
    "    for label in range(1,4):\n",
    "        gmean = mu[label,:]\n",
    "        gcov = covar[label,:,:]\n",
    "        plot_contours(gmean, gcov, x1g, x2g, colors[label-1])\n",
    "\n",
    "    # Infine, mostriamo il grafico\n",
    "    plt.xlabel(featurenames[f1], fontsize=14, color='red')\n",
    "    plt.ylabel(featurenames[f2], fontsize=14, color='red')\n",
    "    #plt.title('Dataset Wine', fontsize=14, color='blue')\n",
    "    plt.show()"
   ]
  },
  {
   "cell_type": "markdown",
   "metadata": {},
   "source": [
    "## 4. Predizione delle etichette per gli esempi di test"
   ]
  },
  {
   "cell_type": "markdown",
   "metadata": {},
   "source": [
    "Quanto bene riusciamo a predire la classe (1,2,3) sulla base di queste due feature? \n",
    "\n",
    "Partiamo con una procedura di testing analoga a quella sviluppata per il caso 1D. "
   ]
  },
  {
   "cell_type": "code",
   "execution_count": 10,
   "metadata": {},
   "outputs": [
    {
     "data": {
      "application/vnd.jupyter.widget-view+json": {
       "model_id": "246aa62c894b4817854422fbd1fb084f",
       "version_major": 2,
       "version_minor": 0
      },
      "text/plain": [
       "interactive(children=(IntSlider(value=0, description='f1', max=12), IntSlider(value=6, description='f2', max=1…"
      ]
     },
     "metadata": {},
     "output_type": "display_data"
    }
   ],
   "source": [
    "# Ora testiamo la performance di un modello basato su un sottoinsieme di due feature\n",
    "@interact( f1=IntSlider(0,0,12,1), f2=IntSlider(6,0,12,1) )\n",
    "def test_model(f1, f2):\n",
    "    if f1 == f2: # need f1 != f2\n",
    "        print(\"Le feature f1 ed f2 devono essere distinte.\")\n",
    "        return  \n",
    "    features= [f1,f2]\n",
    "    mu, covar, pi = fit_generative_model(trainx, trainy, features)\n",
    "    \n",
    "    k = 3 # Etichette 1,2,...,k\n",
    "    nt = len(testy) # Numero di esempi di test\n",
    "    score = np.zeros((nt,k+1))\n",
    "    for i in range(0,nt):\n",
    "        for label in range(1,k+1):\n",
    "            score[i,label] = np.log(pi[label]) + \\\n",
    "            multivariate_normal.logpdf(testx[i,features], mean=mu[label,:], cov=covar[label,:,:])\n",
    "    predictions = np.argmax(score[:,1:4], axis=1) + 1\n",
    "    # Conteggiamo il numero di predizioni errate\n",
    "    errors = np.sum(predictions != testy)\n",
    "    print(\"Errori di test sulla base delle feature: \", end='')\n",
    "    for f in features:\n",
    "        print(\"'\" + featurenames[f] + \"'\" + \" \", end='')\n",
    "    print()\n",
    "    print(\"Errori: \" + str(errors) + \"/\" + str(nt))"
   ]
  },
  {
   "cell_type": "markdown",
   "metadata": {},
   "source": [
    "### Esercizio rapido 1"
   ]
  },
  {
   "cell_type": "markdown",
   "metadata": {},
   "source": [
    "Diverse coppie di feature forniscono un diverso numero di errori di test. \n",
    "* Qual è la percentuale di errore minima ottenibile? \n",
    "* Quale coppia di feature permette di ottenere questa percentuale minima? "
   ]
  },
  {
   "cell_type": "markdown",
   "metadata": {
    "collapsed": true
   },
   "source": [
    "## 5. La frontiera decisionale"
   ]
  },
  {
   "cell_type": "markdown",
   "metadata": {},
   "source": [
    "La funzione **show_decision_boundary** riceve in input due feature, costruisce un classificatore sulla base di queste due sole feature, e mostra un grafico che contiene sia i dati di training che la frontiera decisionale. \n",
    "\n",
    "Per calcolare la frontiera decisionale, definiamo una griglia densa sullo spazio bidimensionale di input e applichiamo il classificatore ad ogni punto della griglia. La funzione predefinita `pyplot.contour` può poi essere invocata per disegnare la frontiera. "
   ]
  },
  {
   "cell_type": "code",
   "execution_count": 11,
   "metadata": {},
   "outputs": [],
   "source": [
    "def show_decision_boundary(f1,f2):\n",
    "    # Facciamo il fit di una gaussiana ad ogni classe\n",
    "    mu, covar, pi = fit_generative_model(trainx, trainy, [f1,f2])\n",
    "    \n",
    "    # Prepariamo gli assi del grafico\n",
    "    x1_lower, x1_upper = find_range(trainx[:,f1])\n",
    "    x2_lower, x2_upper = find_range(trainx[:,f2])\n",
    "    plt.xlim([x1_lower,x1_upper])\n",
    "    plt.ylim([x2_lower,x2_upper])\n",
    "\n",
    "    # Grafichiamo i punti del training set\n",
    "    colors = ['r', 'k', 'g']\n",
    "    for label in range(1,4):\n",
    "        plt.plot(trainx[trainy==label,f1], trainx[trainy==label,f2], marker='o', ls='None', c=colors[label-1])\n",
    "\n",
    "    # Definiamo una griglia densa; ogni punto della griglia sarà classificato dal modello generativo\n",
    "    res = 200\n",
    "    x1g = np.linspace(x1_lower, x1_upper, res)\n",
    "    x2g = np.linspace(x2_lower, x2_upper, res)\n",
    "\n",
    "    # Dichiaramo delle variabili aleatorie rappresentanti la distribuzione di ciascuna classe\n",
    "    random_vars = {}\n",
    "    for label in range(1,4):\n",
    "        random_vars[label] = multivariate_normal(mean=mu[label,:],cov=covar[label,:,:])\n",
    "\n",
    "    # Classifichiamo ogni punto della griglia; memorizziamo il risultato nell'array Z[]\n",
    "    Z = np.zeros((len(x1g), len(x2g)))\n",
    "    for i in range(0,len(x1g)):\n",
    "        for j in range(0,len(x2g)):\n",
    "            scores = []\n",
    "            for label in range(1,4):\n",
    "                scores.append(np.log(pi[label]) + random_vars[label].logpdf([x1g[i],x2g[j]]))\n",
    "            Z[i,j] = np.argmax(scores) + 1\n",
    "\n",
    "    # Grafichiamo le curve di livello\n",
    "    plt.contour(x1g,x2g,Z.T,3,colors='purple')\n",
    "    \n",
    "    # Infine, mostriamo la figura\n",
    "    plt.xlabel(featurenames[f1], fontsize=14, color='red')\n",
    "    plt.ylabel(featurenames[f2], fontsize=14, color='red')\n",
    "    plt.show()"
   ]
  },
  {
   "cell_type": "markdown",
   "metadata": {},
   "source": [
    "Utilizziamo la funzione soprastante per disegnare la frontiera decisionale sulla base delle feature 0 ('alcool') e 6 ('flavonoidi'). "
   ]
  },
  {
   "cell_type": "code",
   "execution_count": 12,
   "metadata": {},
   "outputs": [
    {
     "data": {
      "image/png": "[encoded data removed]",
      "text/plain": [
       "<Figure size 432x288 with 1 Axes>"
      ]
     },
     "metadata": {
      "needs_background": "light"
     },
     "output_type": "display_data"
    }
   ],
   "source": [
    "show_decision_boundary(0,6)"
   ]
  },
  {
   "cell_type": "markdown",
   "metadata": {},
   "source": [
    "### Esercizio rapido 2"
   ]
  },
  {
   "cell_type": "markdown",
   "metadata": {},
   "source": [
    "Aggiungete dei cursori (slider) interattivi alla funzione **show_decision_boundary**. "
   ]
  },
  {
   "cell_type": "markdown",
   "metadata": {},
   "source": [
    "### Esercizio rapido 3"
   ]
  },
  {
   "cell_type": "markdown",
   "metadata": {},
   "source": [
    "Producete un grafico simile a quello di **show_decision_boundary**, ma in cui siano mostrati solo gli esempi di **test**. Considerate di nuovo la vostra risposta all'*Esercizio rapido 1*. È corroborata dal vostro grafico? Gli errori sono chiaramente visibili? "
   ]
  },
  {
   "cell_type": "code",
   "execution_count": null,
   "metadata": {},
   "outputs": [],
   "source": []
  }
 ],
 "metadata": {
  "kernelspec": {
   "display_name": "Python 3",
   "language": "python",
   "name": "python3"
  },
  "language_info": {
   "codemirror_mode": {
    "name": "ipython",
    "version": 3
   },
   "file_extension": ".py",
   "mimetype": "text/x-python",
   "name": "python",
   "nbconvert_exporter": "python",
   "pygments_lexer": "ipython3",
   "version": "3.8.12"
  },
  "toc": {
   "colors": {
    "hover_highlight": "#DAA520",
    "navigate_num": "#000000",
    "navigate_text": "#333333",
    "running_highlight": "#FF0000",
    "selected_highlight": "#FFD700",
    "sidebar_border": "#EEEEEE",
    "wrapper_background": "#FFFFFF"
   },
   "moveMenuLeft": true,
   "nav_menu": {
    "height": "12px",
    "width": "252px"
   },
   "navigate_menu": true,
   "number_sections": false,
   "sideBar": true,
   "threshold": 4,
   "toc_cell": false,
   "toc_section_display": "block",
   "toc_window_display": false,
   "widenNotebook": false
  }
 },
 "nbformat": 4,
 "nbformat_minor": 1
}
