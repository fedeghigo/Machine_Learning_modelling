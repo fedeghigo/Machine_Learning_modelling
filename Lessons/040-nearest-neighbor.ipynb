{
 "cells": [
  {
   "cell_type": "markdown",
   "metadata": {},
   "source": [
    "# Nearest Neighbor per il riconoscimento di cifre scritte a mano\n",
    "\n",
    "In questo quaderno costruiremo un classificatore che riceve un'immagine di una cifra scritta a mano e restituisce un'etichetta da 0 a 9. Consideremo una strategia particolarmente semplice per questo problema, il **classificatore nearest neighbor**. "
   ]
  },
  {
   "cell_type": "markdown",
   "metadata": {},
   "source": [
    "## 1. Il dataset MNIST\n",
    "\n",
    "`MNIST` è un dataset classico del machine learning, consistente di immagini 28 x 28 in scala di grigi di cifre scritte a mano. Il training set originale consiste di 60,000 esempi e il test set di 10,000 esempi. In questo quaderno lavoreremo con un sottoinsieme di questi dati: un training set di 7,500 esempi ed un test set di 1,000 esempi. "
   ]
  },
  {
   "cell_type": "code",
   "execution_count": 1,
   "metadata": {},
   "outputs": [],
   "source": [
    "%matplotlib inline\n",
    "import numpy as np\n",
    "import matplotlib.pyplot as plt \n",
    "import time\n",
    "\n",
    "## Carica il training set\n",
    "train_data = np.load('data/MNIST/train_data.npy')\n",
    "train_labels = np.load('data/MNIST/train_labels.npy')\n",
    "\n",
    "## Carica il test set\n",
    "test_data = np.load('data/MNIST/test_data.npy')\n",
    "test_labels = np.load('data/MNIST/test_labels.npy')"
   ]
  },
  {
   "cell_type": "code",
   "execution_count": 2,
   "metadata": {},
   "outputs": [
    {
     "name": "stdout",
     "output_type": "stream",
     "text": [
      "Dimensioni del training set:  (7500, 784)\n",
      "Numero di etichette di training:  7500\n",
      "Dimensioni del test set:  (1000, 784)\n",
      "Numero di etichette di test:  1000\n"
     ]
    }
   ],
   "source": [
    "## Stampa le loro dimensioni\n",
    "print(\"Dimensioni del training set: \", np.shape(train_data))\n",
    "print(\"Numero di etichette di training: \", len(train_labels))\n",
    "print(\"Dimensioni del test set: \", np.shape(test_data))\n",
    "print(\"Numero di etichette di test: \", len(test_labels))"
   ]
  },
  {
   "cell_type": "code",
   "execution_count": 3,
   "metadata": {},
   "outputs": [
    {
     "name": "stdout",
     "output_type": "stream",
     "text": [
      "Distribuzione del training set:\n",
      "{0: 750, 1: 750, 2: 750, 3: 750, 4: 750, 5: 750, 6: 750, 7: 750, 8: 750, 9: 750}\n",
      "Distribuzione del test set:\n",
      "{0: 100, 1: 100, 2: 100, 3: 100, 4: 100, 5: 100, 6: 100, 7: 100, 8: 100, 9: 100}\n"
     ]
    }
   ],
   "source": [
    "## Calcola il numero di esempi relativi a ciascuna cifra (0--9)\n",
    "train_digits, train_counts = np.unique(train_labels, return_counts=True)\n",
    "print(\"Distribuzione del training set:\")\n",
    "print(dict(zip(train_digits, train_counts)))\n",
    "\n",
    "test_digits, test_counts = np.unique(test_labels, return_counts=True)\n",
    "print(\"Distribuzione del test set:\")\n",
    "print(dict(zip(test_digits, test_counts)))"
   ]
  },
  {
   "cell_type": "markdown",
   "metadata": {},
   "source": [
    "## 2. Visualizzazione dei dati\n",
    "Ogni osservazione (ogni esempio) è memorizzata come vettore a 784 dimensioni. Per visualizzare un'osservazione, prima la riformattiamo come immagine 28x28. "
   ]
  },
  {
   "cell_type": "code",
   "execution_count": 4,
   "metadata": {},
   "outputs": [
    {
     "data": {
      "image/png": "[encoded data removed]",
      "text/plain": [
       "<Figure size 432x288 with 1 Axes>"
      ]
     },
     "metadata": {
      "needs_background": "light"
     },
     "output_type": "display_data"
    },
    {
     "name": "stdout",
     "output_type": "stream",
     "text": [
      "Label: 9\n"
     ]
    },
    {
     "data": {
      "image/png": "[encoded data removed]",
      "text/plain": [
       "<Figure size 432x288 with 1 Axes>"
      ]
     },
     "metadata": {
      "needs_background": "light"
     },
     "output_type": "display_data"
    },
    {
     "name": "stdout",
     "output_type": "stream",
     "text": [
      "Label: 0\n"
     ]
    }
   ],
   "source": [
    "## Definisco una funzione che mostra l'immagine di una cifra data la sua rappresentazione vettoriale\n",
    "def show_digit(x):\n",
    "    plt.axis('off')\n",
    "    plt.imshow(x.reshape((28,28)), cmap=plt.cm.gray)\n",
    "    plt.show()\n",
    "    return\n",
    "\n",
    "## Definisco una funzione che prende un indice relativo a un particolare dataset (\"train\" o \"test\") \n",
    "## e mostra quella immagine.\n",
    "def vis_image(index, dataset=\"train\"):\n",
    "    if(dataset==\"train\"): \n",
    "        show_digit(train_data[index,])\n",
    "        label = train_labels[index]\n",
    "    else:\n",
    "        show_digit(test_data[index,])\n",
    "        label = test_labels[index]\n",
    "    print(\"Label: \" + str(label))\n",
    "    return\n",
    "\n",
    "## Visualizza la prima osservazione del training set\n",
    "vis_image(0, \"train\")\n",
    "\n",
    "## Visualizza la prima osservazione del test set\n",
    "vis_image(0, \"test\")"
   ]
  },
  {
   "cell_type": "markdown",
   "metadata": {
    "collapsed": true
   },
   "source": [
    "## 3. Calcolo della distanza euclidea\n",
    "\n",
    "Per calcolare i nearest neighbor nel nostro dataset, dobbiamo prima poter calcolare le distanze tra osservazioni. Una naturale funzione di distanza è la *distanza euclidea*: per due vettori $x, y \\in \\mathbb{R}^d$, la loro distanza euclidea è definita come\n",
    "$$\\|x - y\\| = \\sqrt{\\sum_{i=1}^d (x_i - y_i)^2}.$$\n",
    "Spesso omettiamo la radice quadrata, e calcoliamo semplicemente la *distanza euclidea al quadrato*: \n",
    "$$\\|x - y\\|^2 = \\sum_{i=1}^d (x_i - y_i)^2.$$\n",
    "Dal punto di vista del calcolo dei nearest neighbor, le due misure sono equivalenti: dati tre vettori $x, y, z \\in \\mathbb{R}^d$, abbiamo $\\|x - y\\| \\leq \\|x - z\\|$ se e solo se $\\|x - y\\|^2 \\leq \\|x - z\\|^2$.\n",
    "\n",
    "Ora vogliamo essere in grado di calcolare la distanza euclidea al quadrato. Definiamo una funzione a questo scopo. "
   ]
  },
  {
   "cell_type": "code",
   "execution_count": 5,
   "metadata": {},
   "outputs": [
    {
     "name": "stdout",
     "output_type": "stream",
     "text": [
      "Distanza da 7 a 6:  5357193.0\n",
      "Distanza da 7 a 2:  12451684.0\n",
      "Distance da 7 a 7:  5223403.0\n"
     ]
    }
   ],
   "source": [
    "## Calcola il quadrato della distanza euclidea tra due vettori\n",
    "def squared_dist(x,y):\n",
    "    return np.sum(np.square(x-y))\n",
    "\n",
    "## Calcola la distanza tra un sette ed un uno del nostro training set\n",
    "print(\"Distanza da 7 a 6: \", squared_dist(train_data[4,],train_data[5,]))\n",
    "\n",
    "## Calcola la distanza tra un sette ed un due del nostro training set\n",
    "print(\"Distanza da 7 a 2: \", squared_dist(train_data[4,],train_data[1,]))\n",
    "\n",
    "## Calcola la distanza tra due sette del nostro training set\n",
    "print(\"Distance da 7 a 7: \", squared_dist(train_data[4,],train_data[7,]))"
   ]
  },
  {
   "cell_type": "markdown",
   "metadata": {},
   "source": [
    "## 4. Calcolo del nearest neighbor\n",
    "\n",
    "Ora che abbiamo una funzione distanza, possiamo occuparci della classificazione nearest neighbor. "
   ]
  },
  {
   "cell_type": "code",
   "execution_count": 6,
   "metadata": {},
   "outputs": [],
   "source": [
    "## Dato un vettore x, restituisce l'indice del suo nearest neighbor in train_data\n",
    "def find_NN(x):\n",
    "    # Calcola le distanze da x ad ogni altra riga in train_data\n",
    "    distances = [squared_dist(x,train_data[i,]) for i in range(len(train_labels))]\n",
    "    # Recupera l'indice corrispondente alla distanza minima\n",
    "    return np.argmin(distances)\n",
    "\n",
    "## Dato un vettore x, restituisce l'etichetta del suo nearest neighbor in train_data\n",
    "def NN_classifier(x):\n",
    "    # Recupera l'indice del nearest neighbor di x\n",
    "    index = find_NN(x)\n",
    "    # Restituisci la sua etichetta\n",
    "    return train_labels[index]"
   ]
  },
  {
   "cell_type": "code",
   "execution_count": 7,
   "metadata": {},
   "outputs": [
    {
     "name": "stdout",
     "output_type": "stream",
     "text": [
      "Classificazione NN:  0\n",
      "Vera etichetta:  0\n",
      "Immagine di test:\n"
     ]
    },
    {
     "data": {
      "image/png": "[encoded data removed]",
      "text/plain": [
       "<Figure size 432x288 with 1 Axes>"
      ]
     },
     "metadata": {
      "needs_background": "light"
     },
     "output_type": "display_data"
    },
    {
     "name": "stdout",
     "output_type": "stream",
     "text": [
      "Label: 0\n",
      "Immagine nearest neighbor corrispondente:\n"
     ]
    },
    {
     "data": {
      "image/png": "[encoded data removed]",
      "text/plain": [
       "<Figure size 432x288 with 1 Axes>"
      ]
     },
     "metadata": {
      "needs_background": "light"
     },
     "output_type": "display_data"
    },
    {
     "name": "stdout",
     "output_type": "stream",
     "text": [
      "Label: 0\n"
     ]
    }
   ],
   "source": [
    "## Un caso di classificazione corretta:\n",
    "print(\"Classificazione NN: \", NN_classifier(test_data[0,]))\n",
    "print(\"Vera etichetta: \", test_labels[0])\n",
    "print(\"Immagine di test:\")\n",
    "vis_image(0, \"test\")\n",
    "print(\"Immagine nearest neighbor corrispondente:\")\n",
    "vis_image(find_NN(test_data[0,]), \"train\")"
   ]
  },
  {
   "cell_type": "code",
   "execution_count": 8,
   "metadata": {},
   "outputs": [
    {
     "name": "stdout",
     "output_type": "stream",
     "text": [
      "Classificazione NN:  2\n",
      "Vera etichetta:  3\n",
      "Immagine di test:\n"
     ]
    },
    {
     "data": {
      "image/png": "[encoded data removed]",
      "text/plain": [
       "<Figure size 432x288 with 1 Axes>"
      ]
     },
     "metadata": {
      "needs_background": "light"
     },
     "output_type": "display_data"
    },
    {
     "name": "stdout",
     "output_type": "stream",
     "text": [
      "Label: 3\n",
      "Corrispondente immagine nearest neighbor:\n"
     ]
    },
    {
     "data": {
      "image/png": "[encoded data removed]",
      "text/plain": [
       "<Figure size 432x288 with 1 Axes>"
      ]
     },
     "metadata": {
      "needs_background": "light"
     },
     "output_type": "display_data"
    },
    {
     "name": "stdout",
     "output_type": "stream",
     "text": [
      "Label: 2\n"
     ]
    }
   ],
   "source": [
    "## Un caso di classificazione scorretta: \n",
    "print(\"Classificazione NN: \", NN_classifier(test_data[39,]))\n",
    "print(\"Vera etichetta: \", test_labels[39])\n",
    "print(\"Immagine di test:\")\n",
    "vis_image(39, \"test\")\n",
    "print(\"Corrispondente immagine nearest neighbor:\")\n",
    "vis_image(find_NN(test_data[39,]), \"train\")"
   ]
  },
  {
   "cell_type": "markdown",
   "metadata": {},
   "source": [
    "## 5. Esercizio 1\n",
    "I due esempi sopra mostrano i risultati della classificazione NN sulle osservazioni di test numero 0 e 39. \n",
    "\n",
    "Ora provate l'osservazione di test numero 100. \n",
    "* Qual è l'indice del suo nearest neighbor nel training set? \n",
    "* Visualizzate sia l'osservazione di test che il suo nearest neighbor.\n",
    "* Quale etichetta è stata predetta? Si tratta dell'etichetta corretta? "
   ]
  },
  {
   "cell_type": "markdown",
   "metadata": {},
   "source": [
    "## 6. Elaborazione del test set completo\n",
    "\n",
    "Ora applichiamo il nostro classificatore nearest neighbor all'intero data set di test. \n",
    "\n",
    "Osserviamo che per classificare ognuna delle 1,000 osservazioni di test, il nostro codice effettua un'intera passata su ciascuno dei 7,500 esempi di training. Quindi non possiamo aspettarci che l'elaborazione sia molto rapida. Il codice seguente impiega circa 100-150 secondi su un processore Intel Core i5 a 2.6 GHz. "
   ]
  },
  {
   "cell_type": "code",
   "execution_count": 10,
   "metadata": {},
   "outputs": [
    {
     "name": "stdout",
     "output_type": "stream",
     "text": [
      "Errore del classificatore nearest neighbor:  0.046\n",
      "Tempo di classificazione (secondi):  51.60781812667847\n"
     ]
    }
   ],
   "source": [
    "# Questa cella richiede circa 2-3 minuti\n",
    "## Effettua la predizione di ciascun esempio di test (e cronometra il tempo richiesto)\n",
    "t_before = time.time()\n",
    "test_predictions = [NN_classifier(test_data[i,]) for i in range(len(test_labels))]\n",
    "t_after = time.time()\n",
    "\n",
    "## Calcola il tasso di errore\n",
    "err_positions = np.not_equal(test_predictions, test_labels)\n",
    "error = float(np.sum(err_positions))/len(test_labels)\n",
    "\n",
    "print(\"Errore del classificatore nearest neighbor: \", error)\n",
    "print(\"Tempo di classificazione (secondi): \", t_after - t_before)"
   ]
  },
  {
   "cell_type": "markdown",
   "metadata": {},
   "source": [
    "## 7. Metodi nearest neighbor più rapidi\n",
    "\n",
    "Effettuare la classificazione nearest neighbor nel modo presentato richiede un'intera passata sul training set per classificare una singola osservazione. Se ci sono $m$ esempi di training in $\\mathbb{R}^d$, questo richiede tempo proporzionale a $m d$ *per ogni predizione*. \n",
    "\n",
    "Fortunatamente, esistono metodi più rapidi per effettuare la classificazione nearest neighbor se siamo disposti a spendere del tempo per *preprocessare* il training set. \n",
    "`scikit-learn` offre implementazioni di due utili strutture dati nearest neighbor: il _ball tree_ e il _k-d tree_. "
   ]
  },
  {
   "cell_type": "code",
   "execution_count": 11,
   "metadata": {},
   "outputs": [
    {
     "name": "stdout",
     "output_type": "stream",
     "text": [
      "Tempo di preprocessamento (secondi):  0.838860273361206\n",
      "Tempo per classificare il test set (secondi):  6.170664072036743\n",
      "Il ball tree produce le stesse predizioni di cui sopra?  True\n"
     ]
    }
   ],
   "source": [
    "# Questa cella richiede circa 8 secondi\n",
    "from sklearn.neighbors import BallTree\n",
    "\n",
    "## Costruisci una struttura nearest neighbor sui dati di training\n",
    "t_before = time.time()\n",
    "ball_tree = BallTree(train_data)\n",
    "t_after = time.time()\n",
    "\n",
    "## Calcola e visualizza il tempo di training\n",
    "t_training = t_after - t_before\n",
    "print(\"Tempo di preprocessamento (secondi): \", t_training)\n",
    "\n",
    "## Effettua la predizione di ciascun esempio di test (e cronometra il tempo richiesto)\n",
    "t_before = time.time()\n",
    "test_neighbors = np.squeeze(ball_tree.query(test_data, k=1, return_distance=False))\n",
    "ball_tree_predictions = train_labels[test_neighbors]\n",
    "t_after = time.time()\n",
    "\n",
    "## Calcola e visualizza il tempo di test\n",
    "t_testing = t_after - t_before\n",
    "print(\"Tempo per classificare il test set (secondi): \", t_testing)\n",
    "\n",
    "## Verifica che le predizioni siano le stesse dell'algoritmo NN originale\n",
    "print(\"Il ball tree produce le stesse predizioni di cui sopra? \", np.array_equal(test_predictions, ball_tree_predictions))"
   ]
  },
  {
   "cell_type": "code",
   "execution_count": 12,
   "metadata": {},
   "outputs": [
    {
     "name": "stdout",
     "output_type": "stream",
     "text": [
      "Tempo di preprocessamento (secondi):  1.3294177055358887\n",
      "Tempo per classificare il test set (secondi):  7.602702379226685\n",
      "Il KD tree produce le stesse predizioni di cui sopra?  True\n"
     ]
    }
   ],
   "source": [
    "# Questa cella richiede circa 10 secondi\n",
    "from sklearn.neighbors import KDTree\n",
    "\n",
    "## Costruisci una struttura nearest neighbor sui dati di training\n",
    "t_before = time.time()\n",
    "kd_tree = KDTree(train_data)\n",
    "t_after = time.time()\n",
    "\n",
    "## Calcola e visualizza il tempo di training\n",
    "t_training = t_after - t_before\n",
    "print(\"Tempo di preprocessamento (secondi): \", t_training)\n",
    "\n",
    "## Effettua la predizione di ciascun esempio di test (e cronometra il tempo richiesto)\n",
    "t_before = time.time()\n",
    "test_neighbors = np.squeeze(kd_tree.query(test_data, k=1, return_distance=False))\n",
    "kd_tree_predictions = train_labels[test_neighbors]\n",
    "t_after = time.time()\n",
    "\n",
    "## Calcola e visualizza il tempo di test\n",
    "t_testing = t_after - t_before\n",
    "print(\"Tempo per classificare il test set (secondi): \", t_testing)\n",
    "\n",
    "## Verifica che le predizioni siano le stesse dell'algoritmo NN originale\n",
    "print(\"Il KD tree produce le stesse predizioni di cui sopra? \", np.array_equal(test_predictions, kd_tree_predictions))"
   ]
  },
  {
   "cell_type": "markdown",
   "metadata": {},
   "source": [
    "## 8. Apprendimento su tutti i 60,000 esempi di training\n",
    "Possiamo migliorare l'errore del nostro classificatore fornendogli più esempi? \n",
    "Proviamo ad utilizzare l'intero training set MNIST, di 60,000 esempi. (Continueremo ad utilizzare solo 1,000 esempi di test, per praticità.)\n",
    "\n",
    "Poiché il dataset intero è in un formato diverso, definiamo prima le funzioni di caricamento appropriate. "
   ]
  },
  {
   "cell_type": "code",
   "execution_count": 13,
   "metadata": {},
   "outputs": [],
   "source": [
    "import os, gzip\n",
    "from urllib.request import urlretrieve\n",
    "data_dir = 'data/MNIST/' # directory in cui si trovano o si troveranno i file dati\n",
    "\n",
    "# Funzione per scaricare uno specifico file dati MNIST dal sito web di Yann Le Cun\n",
    "def download(filename, source='http://yann.lecun.com/exdb/mnist/'):\n",
    "    print(\"Downloading %s\" % filename)\n",
    "    urlretrieve(source + filename, data_dir + filename)\n",
    "\n",
    "# Chiama download() se necessario, poi legge le immagini\n",
    "def load_mnist_images(filename):\n",
    "    if not os.path.exists(data_dir + filename):\n",
    "        download(filename)\n",
    "    with gzip.open(data_dir + filename, 'rb') as f:\n",
    "        data = np.frombuffer(f.read(), np.uint8, offset=16)\n",
    "    data = data.reshape(-1,784) # carichiamo le immagini come vettori 784-dimensionali\n",
    "    return data\n",
    "\n",
    "def load_mnist_labels(filename):\n",
    "    if not os.path.exists(data_dir + filename):\n",
    "        download(filename)\n",
    "    with gzip.open(data_dir + filename, 'rb') as f:\n",
    "        data = np.frombuffer(f.read(), np.uint8, offset=8)\n",
    "    return data"
   ]
  },
  {
   "cell_type": "markdown",
   "metadata": {},
   "source": [
    "Ora possiamo caricare il dataset completo, di 60,000 esempi. "
   ]
  },
  {
   "cell_type": "code",
   "execution_count": 14,
   "metadata": {},
   "outputs": [
    {
     "name": "stdout",
     "output_type": "stream",
     "text": [
      "(60000, 784)\n"
     ]
    }
   ],
   "source": [
    "## Carichiamo il training set completo (NB. richiede una connessione Internet attiva se i file non sono già presenti)\n",
    "train_data = load_mnist_images('train-images-idx3-ubyte.gz')\n",
    "train_labels = load_mnist_labels('train-labels-idx1-ubyte.gz')\n",
    "print(train_data.shape)"
   ]
  },
  {
   "cell_type": "markdown",
   "metadata": {},
   "source": [
    "Costruire la predizione di 1,000 esempi di test con Nearest Neighbor richiederebbe un tempo enorme, dovendo confrontare ciascuno di essi con 60,000 esempi memorizzati, quindi sfruttiamo una struttura dati `KDTree` per ottenere predizioni identiche ma più rapide. "
   ]
  },
  {
   "cell_type": "code",
   "execution_count": 15,
   "metadata": {},
   "outputs": [
    {
     "name": "stdout",
     "output_type": "stream",
     "text": [
      "Tempo di preprocessamento (secondi):  25.894065856933594\n"
     ]
    }
   ],
   "source": [
    "# Questa cella richiede circa 50 secondi\n",
    "## Costruisci una struttura nearest neighbor sui dati di training\n",
    "t_before = time.time()\n",
    "kd_tree = KDTree(train_data)\n",
    "t_after = time.time()\n",
    "\n",
    "## Calcola e visualizza il tempo di training\n",
    "t_training = t_after - t_before\n",
    "print(\"Tempo di preprocessamento (secondi): \", t_training)"
   ]
  },
  {
   "cell_type": "code",
   "execution_count": 16,
   "metadata": {},
   "outputs": [
    {
     "name": "stdout",
     "output_type": "stream",
     "text": [
      "Tempo per classificare il test set (secondi):  61.179027795791626\n",
      "Errore del classificatore nearest neighbor:  0.029\n"
     ]
    }
   ],
   "source": [
    "# Questa cella richiede circa 75 secondi\n",
    "# Effettua la predizione di ciascun esempio di test (e cronometra il tempo richiesto)\n",
    "t_before = time.time()\n",
    "test_neighbors = np.squeeze(kd_tree.query(test_data, k=1, return_distance=False))\n",
    "kd_tree_predictions = train_labels[test_neighbors]\n",
    "t_after = time.time()\n",
    "\n",
    "## Calcola e visualizza il tempo di test\n",
    "t_testing = t_after - t_before\n",
    "print(\"Tempo per classificare il test set (secondi): \", t_testing)\n",
    "\n",
    "## Calcola il tasso di errore\n",
    "err_positions = np.not_equal(kd_tree_predictions, test_labels)\n",
    "error = float(np.sum(err_positions))/len(test_labels)\n",
    "\n",
    "print(\"Errore del classificatore nearest neighbor: \", error)"
   ]
  },
  {
   "cell_type": "markdown",
   "metadata": {},
   "source": [
    "L'errore del classificatore è sceso dal 4.6% a circa il 3%, solo aumentando il numero di esempi di training! "
   ]
  },
  {
   "cell_type": "code",
   "execution_count": null,
   "metadata": {},
   "outputs": [],
   "source": []
  }
 ],
 "metadata": {
  "anaconda-cloud": {},
  "kernelspec": {
   "display_name": "Python 3",
   "language": "python",
   "name": "python3"
  },
  "language_info": {
   "codemirror_mode": {
    "name": "ipython",
    "version": 3
   },
   "file_extension": ".py",
   "mimetype": "text/x-python",
   "name": "python",
   "nbconvert_exporter": "python",
   "pygments_lexer": "ipython3",
   "version": "3.8.3"
  },
  "toc": {
   "colors": {
    "hover_highlight": "#DAA520",
    "navigate_num": "#000000",
    "navigate_text": "#333333",
    "running_highlight": "#FF0000",
    "selected_highlight": "#FFD700",
    "sidebar_border": "#EEEEEE",
    "wrapper_background": "#FFFFFF"
   },
   "moveMenuLeft": true,
   "nav_menu": {
    "height": "153px",
    "width": "252px"
   },
   "navigate_menu": true,
   "number_sections": false,
   "sideBar": true,
   "threshold": 4,
   "toc_cell": false,
   "toc_section_display": "block",
   "toc_window_display": false,
   "widenNotebook": false
  }
 },
 "nbformat": 4,
 "nbformat_minor": 1
}
