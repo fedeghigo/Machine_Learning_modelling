{
 "cells": [
  {
   "cell_type": "markdown",
   "metadata": {
    "colab_type": "text",
    "id": "T4r2z30vJSbA"
   },
   "source": [
    "<img src=\"img/numpy_logo.png\" width=\"20%\">\n",
    "\n",
    "# Introduzione a NumPy\n",
    "\n",
    "NumPy è una libreria Python per la creazione e manipolazione di vettori, matrici, e in generale array multidimensionali (tensori). \n"
   ]
  },
  {
   "cell_type": "markdown",
   "metadata": {
    "colab_type": "text",
    "id": "vO47lN3aDOAv"
   },
   "source": [
    "## Premessa: Struttura di un quaderno Jupyter (Python interattivo)\n",
    "\n",
    "Ogni Jupyter Notebook consiste di due tipi di componenti:\n",
    "\n",
    "  * **Celle di testo**, contenenti spiegazioni. Quella che state leggendo è una cella di testo. \n",
    "  * **Celle di codice**, contenenti codice eseguibile Python. Le celle di codice hanno uno sfondo grigio.\n"
   ]
  },
  {
   "cell_type": "markdown",
   "metadata": {
    "colab_type": "text",
    "id": "SQ-pvdPymocS"
   },
   "source": [
    "### Come eseguire le celle di codice\n",
    "\n",
    "Le celle di codice vanno di norma eseguite in sequenza. (Ogni esecuzione modifica lo stato interno dell'interprete Python.)\n",
    "\n",
    "Per eseguire una cella di codice: \n",
    "\n",
    "  1. Cliccare all'interno della cella di codice. \n",
    "  2. Cliccare il pulsante \"Run\" dalla barra degli strumenti. In alternativa, digitare CTRL + Invio. \n",
    "\n",
    "Per eseguire tutte le celle del quaderno, si può selezionare **Cell->Run all** dal menu di Jupyter. Notare però che alcune celle di codice potrebbero fallire in quanto potrebbero richiedere l'aggiunta di codice, come parte di un'esercizio. "
   ]
  },
  {
   "cell_type": "markdown",
   "metadata": {
    "colab_type": "text",
    "id": "v9GhD7Fsmoqw"
   },
   "source": [
    "### Se osservate errori...\n",
    "\n",
    "I motivi che più spesso danno luogo ad errori nell'esecuzione di celle di codice sono i seguenti: \n",
    "\n",
    "  * Non avete eseguito *tutte* le celle di codice precedenti alla cella di codice che segnala errore. \n",
    "  * Se la cella di codice è parte di un esercizio, allora: \n",
    "    *  Non avete ancora scritto il codice che implementa l'esercizio. \n",
    "    *  Avete scritto il codice, ma il codice contiene degli errori. "
   ]
  },
  {
   "cell_type": "markdown",
   "metadata": {
    "colab_type": "text",
    "id": "Ll9RWewwFwX6"
   },
   "source": [
    "## Importare il modulo NumPy\n",
    "\n",
    "Eseguendo la cella seguente importiamo il modulo NumPy: "
   ]
  },
  {
   "cell_type": "code",
   "execution_count": null,
   "metadata": {
    "colab": {},
    "colab_type": "code",
    "id": "guvPzSWYJGZ4"
   },
   "outputs": [],
   "source": [
    "import numpy as np \n",
    "np.__version__"
   ]
  },
  {
   "cell_type": "markdown",
   "metadata": {},
   "source": [
    "Le caratteristiche chiave di NumPy sono: \n",
    "\n",
    "- *ndarray*: array multidimensionali efficienti con valori omogenei (stesso tipo di dato). Gli ndarray offrono vari metodi predefiniti per l'elaborazione rapida dei dati senza la scrittura di cicli espliciti (per esempio: calcolo della media). \n",
    "- *Vettorizzazione*: permette delle operazioni numeriche efficienti sugli ndarray, sfruttando ove possibile il parallelismo hardware.\n",
    "- *Broadcasting*: definisce il comportamento di operazioni tra array multidimensionali di diversa forma. \n",
    "- *Input/output*: semplifica la lettura e scrittura dei dati da/a file. \n",
    "\n",
    "Per qualunque ulteriore approfondimento è sempre utile consultare la <a href=\"https://docs.scipy.org/doc/numpy/reference/\">documentazione ufficiale NumPy</a> (sempre accessibile dal menu *Help* di Jupyter o scrivendo `?nome_di_funzione`)."
   ]
  },
  {
   "cell_type": "markdown",
   "metadata": {},
   "source": [
    "## Creazione di array multidimensionali\n",
    "\n",
    "Gli ***ndarray*** (*n-dimensional array*) sono array multidimensionali efficienti, la vera ragion d'essere di numpy. \n",
    "\n",
    "Per creare un ndarray usiamo la funzione `np.array`.\n",
    "\n",
    "Gli ndarray unidimensionali (1D) permettono di rappresentare comodamente dei *vettori*. \n",
    "\n",
    "Per creare un ndarray unidimensionale, passiamo a `np.array` una lista di numeri. Ad esempio: "
   ]
  },
  {
   "cell_type": "code",
   "execution_count": null,
   "metadata": {},
   "outputs": [],
   "source": [
    "an_array = np.array([1.6, 2.5, 3.1, 4.9])  # Crea un array unidimensionale popolandolo con dei valori predefiniti\n",
    "print(an_array)\n",
    "print(type(an_array))              # Il tipo di un ndarray è: 'numpy.ndarray'"
   ]
  },
  {
   "cell_type": "code",
   "execution_count": null,
   "metadata": {},
   "outputs": [],
   "source": [
    "# Testiamo la forma dell'array appena creato: avrà una sola dimensione (rango 1) di lunghezza 4\n",
    "print(an_array.shape)"
   ]
  },
  {
   "cell_type": "code",
   "execution_count": null,
   "metadata": {},
   "outputs": [],
   "source": [
    "# Trattandosi di un array unidimensionale, per accedere gli elementi serve esattamente un indice\n",
    "print(an_array[0], an_array[1], an_array[2], an_array[3]) "
   ]
  },
  {
   "cell_type": "markdown",
   "metadata": {},
   "source": [
    "Gli ndarray bidimensionali (2D) permettono di rappresentare comodamente delle *matrici*. \n",
    "\n",
    "Per creare un ndarray bidimensionale, passiamo a `np.array` una lista di liste, del tipo `[ [riga], [riga], ..., [riga] ]`. Ad esempio:  "
   ]
  },
  {
   "cell_type": "code",
   "execution_count": null,
   "metadata": {},
   "outputs": [],
   "source": [
    "another = np.array([[11,12,13],[21,22,23]])   # Crea un array bidimensionale\n",
    "print(another)\n",
    "print(\"La forma (shape) è 2 righe, 3 colonne: \", another.shape)  # righe e colonne                   \n",
    "print(\"Accedo agli elementi [0,0], [0,1], e [1,0] dell'ndarray: \", another[0, 0], \", \",another[0, 1],\", \", another[1, 0])\n"
   ]
  },
  {
   "cell_type": "markdown",
   "metadata": {},
   "source": [
    "Gli ndarray possono essere creati in molti modi. \n",
    "\n",
    "Qui mostriamo la creazione di array di diverse forme inizializzati con diversi valori. NumPy offre vari metodi che ci permettono di creare array multidimensionali facilmente e rapidamente. "
   ]
  },
  {
   "cell_type": "code",
   "execution_count": null,
   "metadata": {},
   "outputs": [],
   "source": [
    "# crea un array 2 x 2 di tutti zeri\n",
    "ex1 = np.zeros((2,2))      \n",
    "print(ex1)                              "
   ]
  },
  {
   "cell_type": "code",
   "execution_count": null,
   "metadata": {},
   "outputs": [],
   "source": [
    "# crea un array 2 x 2 con valori tutti pari a 9.0\n",
    "ex2 = np.full((2,2), 9.0)  \n",
    "print(ex2)   "
   ]
  },
  {
   "cell_type": "code",
   "execution_count": null,
   "metadata": {},
   "outputs": [],
   "source": [
    "# crea una matrice identità 2 x 2\n",
    "ex3 = np.eye(2,2)\n",
    "print(ex3)  "
   ]
  },
  {
   "cell_type": "code",
   "execution_count": null,
   "metadata": {},
   "outputs": [],
   "source": [
    "# crea un array 1 x 2 di tutti 1\n",
    "ex4 = np.ones((1,2))\n",
    "print(ex4)"
   ]
  },
  {
   "cell_type": "code",
   "execution_count": null,
   "metadata": {},
   "outputs": [],
   "source": [
    "# notare che l'ndarray ex4 è bidimensionale (cioé di rango 2); è un array 1 x 2\n",
    "print(ex4.shape)\n",
    "\n",
    "# il che significa che per accedere a ciascun suo elemento servono due indici\n",
    "print(ex4[0,1])"
   ]
  },
  {
   "cell_type": "code",
   "execution_count": null,
   "metadata": {},
   "outputs": [],
   "source": [
    "# crea un array di numeri decimali (float) casuali compresi tra 0 ed 1\n",
    "ex5 = np.random.random((2,2))\n",
    "print(ex5)"
   ]
  },
  {
   "cell_type": "code",
   "execution_count": null,
   "metadata": {},
   "outputs": [],
   "source": [
    "# crea un vettore di 6 elementi con interi casuali compresi tra 50 (incluso) e 101 (escluso)\n",
    "ex6 = np.random.randint(low=50, high=101, size=(6,))\n",
    "print(ex6)"
   ]
  },
  {
   "cell_type": "code",
   "execution_count": null,
   "metadata": {
    "colab": {},
    "colab_type": "code",
    "id": "CjHfYWhdQYtO"
   },
   "outputs": [],
   "source": [
    "# crea un vettore contenente una successione aritmetica \n",
    "ex7 = np.arange(5, 12)\n",
    "print(ex7)"
   ]
  },
  {
   "cell_type": "markdown",
   "metadata": {
    "colab_type": "text",
    "id": "1x3OoWrPWn8S"
   },
   "source": [
    "Notare che `np.arange` genera una sequenza che include il limite inferiore (5) ma non quello superiore (12). "
   ]
  },
  {
   "cell_type": "markdown",
   "metadata": {},
   "source": [
    "## Slicing\n",
    "\n",
    "Lo slicing degli ndarray è simile allo slicing di liste e stringhe in Python e ci permette di estrarre sotto-regioni di un ndarray. "
   ]
  },
  {
   "cell_type": "code",
   "execution_count": null,
   "metadata": {},
   "outputs": [],
   "source": [
    "# Array bidimensionale di forma (3, 4)\n",
    "an_array = np.array([[11,12,13,14], [21,22,23,24], [31,32,33,34]])\n",
    "print(an_array)"
   ]
  },
  {
   "cell_type": "markdown",
   "metadata": {},
   "source": [
    "Usiamo lo slicing per estrarre un sottoarray consistente delle prime 2 righe e delle colonne di indice 1 e 2. "
   ]
  },
  {
   "cell_type": "code",
   "execution_count": null,
   "metadata": {},
   "outputs": [],
   "source": [
    "a_slice = an_array[:2, 1:3]\n",
    "print(a_slice)"
   ]
  },
  {
   "cell_type": "markdown",
   "metadata": {},
   "source": [
    "**Importante**: la modifica di uno slice **modifica** l'array da cui lo slice è stato estratto. "
   ]
  },
  {
   "cell_type": "code",
   "execution_count": null,
   "metadata": {},
   "outputs": [],
   "source": [
    "print(\"Prima:\", an_array[0, 1])   # ispezioniamo l'elemento in posizione (0, 1)  \n",
    "a_slice[0, 0] = 1000    # a_slice[0, 0] fa riferimento allo stesso dato di an_array[0, 1]!\n",
    "print(\"Dopo:\", an_array[0, 1])"
   ]
  },
  {
   "cell_type": "markdown",
   "metadata": {},
   "source": [
    "Possiamo combinare la normale indicizzazione intera con lo slicing per creare matrici di varie forme. "
   ]
  },
  {
   "cell_type": "code",
   "execution_count": null,
   "metadata": {},
   "outputs": [],
   "source": [
    "# Crea un array bidimensionale di forma (3, 4)\n",
    "an_array = np.array([[11,12,13,14], [21,22,23,24], [31,32,33,34]])\n",
    "print(an_array)"
   ]
  },
  {
   "cell_type": "markdown",
   "metadata": {},
   "source": [
    "Usare sia l'indicizzazione intera che lo slicing genera un array di rango inferiore:"
   ]
  },
  {
   "cell_type": "code",
   "execution_count": null,
   "metadata": {},
   "outputs": [],
   "source": [
    "row_rank1 = an_array[1, :]    # sotto-regione di rango 1\n",
    "print(row_rank1, row_rank1.shape)  # notare la presenza di un'unica coppia di parentesi []"
   ]
  },
  {
   "cell_type": "markdown",
   "metadata": {},
   "source": [
    "Usare solo lo slicing genera un array di rango uguale all'originale: "
   ]
  },
  {
   "cell_type": "code",
   "execution_count": null,
   "metadata": {},
   "outputs": [],
   "source": [
    "row_rank2 = an_array[1:2, :]  # sotto-regione di rango 2\n",
    "print(row_rank2, row_rank2.shape)   # notare la doppia coppia di parentesi [[ ]]"
   ]
  },
  {
   "cell_type": "code",
   "execution_count": null,
   "metadata": {},
   "outputs": [],
   "source": [
    "# Si può fare lo stesso per le colonne di un array: \n",
    "col_rank1 = an_array[:, 1]\n",
    "col_rank2 = an_array[:, 1:2]\n",
    "\n",
    "print(col_rank1, col_rank1.shape)  # Rango 1\n",
    "print()\n",
    "print(col_rank2, col_rank2.shape)  # Rango 2"
   ]
  },
  {
   "cell_type": "markdown",
   "metadata": {},
   "source": [
    "A volte è utile usare un array di indici per accedere o modificare elementi specifici. "
   ]
  },
  {
   "cell_type": "code",
   "execution_count": null,
   "metadata": {},
   "outputs": [],
   "source": [
    "# Crea un nuovo array\n",
    "an_array = np.array([[11,12,13], [21,22,23], [31,32,33], [41,42,43]])\n",
    "\n",
    "print('Array originale:')\n",
    "print(an_array)"
   ]
  },
  {
   "cell_type": "code",
   "execution_count": null,
   "metadata": {},
   "outputs": [],
   "source": [
    "# Crea un array di indici\n",
    "col_indices = np.array([0, 1, 2, 0])\n",
    "print('Indici di colonna scelti : ', col_indices)\n",
    "\n",
    "#row_indices = np.arange(4)\n",
    "row_indices = np.array([0, 1, 2, 3])\n",
    "print('Indici di riga scelti : ', row_indices)"
   ]
  },
  {
   "cell_type": "code",
   "execution_count": null,
   "metadata": {},
   "outputs": [],
   "source": [
    "# Esaminiamo le coppie (abbinate) di row_indices e col_indices. Indicano gli elementi che poi modificheremo. \n",
    "for row, col in zip(row_indices,col_indices):\n",
    "    print(row, \",\", col)"
   ]
  },
  {
   "cell_type": "code",
   "execution_count": null,
   "metadata": {},
   "outputs": [],
   "source": [
    "# Visualizziamo gli elementi selezionati dagli indici\n",
    "print('Valori nell\\'array a quegli indici: ',an_array[row_indices, col_indices])"
   ]
  },
  {
   "cell_type": "code",
   "execution_count": null,
   "metadata": {},
   "outputs": [],
   "source": [
    "# Modifichiamo ciascuno degli elementi selezionati dagli indici\n",
    "an_array[row_indices, col_indices] += 100000\n",
    "\n",
    "print('Array modificato:')\n",
    "print(an_array)"
   ]
  },
  {
   "cell_type": "markdown",
   "metadata": {},
   "source": [
    "## Indicizzazione booleana (filtraggio)\n",
    "\n",
    "Un ***filtro*** è un array di valori booleani che indicano se ciascun elemento di un altro array soddisfa o no una certa condizione. L'uso dei filtri ci permette di selezionare e/o modificare agevolmente gli elementi di un array che godono di particolari proprietà. "
   ]
  },
  {
   "cell_type": "code",
   "execution_count": null,
   "metadata": {},
   "outputs": [],
   "source": [
    "# crea un array 3 x 2\n",
    "an_array = np.array([[11,12], [21, 22], [31, 32]])\n",
    "print(an_array)"
   ]
  },
  {
   "cell_type": "code",
   "execution_count": null,
   "metadata": {},
   "outputs": [],
   "source": [
    "# crea un filtro, ovvero un array di booleani che indicano se ciascun elemento soddisfa una certa condizione\n",
    "filtro = (an_array > 15)\n",
    "filtro"
   ]
  },
  {
   "cell_type": "markdown",
   "metadata": {},
   "source": [
    "Notare che il filtro ha la stessa forma di an_array e contiene `True` per ogni elemento il cui corrispondente elemento di an_array è maggiore di 15 e `False` per quegli elementi il cui valore è al più 15. "
   ]
  },
  {
   "cell_type": "code",
   "execution_count": null,
   "metadata": {},
   "outputs": [],
   "source": [
    "# Ora possiamo selezionare gli elementi dell'array che soddisfano il criterio: \n",
    "print(an_array[filtro])"
   ]
  },
  {
   "cell_type": "code",
   "execution_count": null,
   "metadata": {},
   "outputs": [],
   "source": [
    "# Per brevità, avremmo potuto usare anche la seguente sintassi, senza usare una variabile per l'array filtro. \n",
    "an_array[an_array > 15]"
   ]
  },
  {
   "cell_type": "markdown",
   "metadata": {},
   "source": [
    "I filtri sono particolarmente utili per modificare gli elementi dell'array che soddisfano una certa condizione. Per esempio, aggiungiamo 100 a tutti i valori *pari* dell'array. "
   ]
  },
  {
   "cell_type": "code",
   "execution_count": null,
   "metadata": {},
   "outputs": [],
   "source": [
    "an_array[an_array % 2 == 0] += 100\n",
    "print(an_array)"
   ]
  },
  {
   "cell_type": "markdown",
   "metadata": {},
   "source": [
    "## Tipo di dati in un ndarray\n",
    "Il tipo di dati memorizzati in un ndarray è assegnato automaticamente da Python in base ai valori forniti al momento della creazione dell'array. L'utente può comunque forzare un tipo particolare attraverso il parametro `dtype` (datatype). "
   ]
  },
  {
   "cell_type": "code",
   "execution_count": null,
   "metadata": {},
   "outputs": [],
   "source": [
    "ex1 = np.array([11, 12]) # Il tipo di dati è assegnato automaticamente da Python\n",
    "print(ex1.dtype)"
   ]
  },
  {
   "cell_type": "code",
   "execution_count": null,
   "metadata": {},
   "outputs": [],
   "source": [
    "ex2 = np.array([11.0, 12.0]) # Il tipo di dati è assegnato automaticamente da Python\n",
    "print(ex2.dtype)"
   ]
  },
  {
   "cell_type": "code",
   "execution_count": null,
   "metadata": {},
   "outputs": [],
   "source": [
    "ex3 = np.array([11, 12], dtype=np.int64) # Il tipo di dati è specificato dall'utente\n",
    "print(ex3.dtype)"
   ]
  },
  {
   "cell_type": "code",
   "execution_count": null,
   "metadata": {},
   "outputs": [],
   "source": [
    "# possiamo richiedere il troncamento di valori in virgola mobile a valori interi\n",
    "ex4 = np.array([11.1,12.7], dtype=np.int64)\n",
    "print(ex4.dtype)\n",
    "print(ex4)"
   ]
  },
  {
   "cell_type": "code",
   "execution_count": null,
   "metadata": {},
   "outputs": [],
   "source": [
    "# possiamo forzare l'uso di valori in virgola mobile dall'inizio\n",
    "ex5 = np.array([11, 21], dtype=np.float64)\n",
    "print(ex5.dtype)\n",
    "print(ex5)"
   ]
  },
  {
   "cell_type": "markdown",
   "metadata": {
    "colab_type": "text",
    "id": "eXOdSjRlSEf6"
   },
   "source": [
    "## Operazioni matematiche sugli ndarray"
   ]
  },
  {
   "cell_type": "code",
   "execution_count": null,
   "metadata": {},
   "outputs": [],
   "source": [
    "x = np.array([[111,112],[121,122]], dtype=np.int)\n",
    "y = np.array([[211.1,212.1],[221.1,222.1]], dtype=np.float64)\n",
    "\n",
    "print(x)\n",
    "print(y)"
   ]
  },
  {
   "cell_type": "markdown",
   "metadata": {},
   "source": [
    "Di norma, le operazioni sono applicate *elemento per elemento*. Nel caso di operazioni binarie, questo avviene presupponendo che i due ndarray siano compatibili (abbiano la stessa *forma*). "
   ]
  },
  {
   "cell_type": "code",
   "execution_count": null,
   "metadata": {},
   "outputs": [],
   "source": [
    "print(x + y) # somma\n",
    "print(x - y) # sottrazione\n",
    "print(x * y) # moltiplicazione\n",
    "print(x / y) # divisione\n",
    "print(np.sqrt(x)) # radice quadrata\n",
    "print(np.exp(x)) # esponenziale (e**x)"
   ]
  },
  {
   "cell_type": "markdown",
   "metadata": {},
   "source": [
    "**Nota**. Notare l'assenza di cicli `for`. Sarà NumPy a iterare sui vari elementi degli array e anzi, ove possibile, sfrutterà il parallelismo hardware per ottenere un risultato in tempi più rapidi (***vettorizzazione***). "
   ]
  },
  {
   "cell_type": "markdown",
   "metadata": {},
   "source": [
    "La combinazione di ndarray di forma diversa avviene invece attraverso il *broadcasting* (vedi sotto). "
   ]
  },
  {
   "cell_type": "markdown",
   "metadata": {},
   "source": [
    "## Broadcasting\n",
    "\n",
    "Quando operiamo su più ndarray di forma diversa, il risultato è determinato dal cosiddetto ***broadcasting***. In sostanza, NumPy estende automaticamente gli operandi di forma più piccola \"allungandoli\" fino a farli diventare della forma compatibile con l'operando di forma più grande. Ad esempio: \n",
    "\n",
    "$$\n",
    "\\left[\n",
    "\\begin{array}{ccc}\n",
    "0 & 0 & 0 \\\\\n",
    "0 & 0 & 0 \\\\\n",
    "0 & 0 & 0 \\\\\n",
    "0 & 0 & 0 \\\\\n",
    "\\end{array}\n",
    "\\right]\n",
    "+\n",
    "\\left[\n",
    "\\begin{array}{ccc}\n",
    "1 & 0 & 2 \\\\\n",
    "\\end{array}\n",
    "\\right]\n",
    "\\quad \\rightarrow \\quad\n",
    "\\left[\n",
    "\\begin{array}{ccc}\n",
    "0 & 0 & 0 \\\\\n",
    "0 & 0 & 0 \\\\\n",
    "0 & 0 & 0 \\\\\n",
    "0 & 0 & 0 \\\\\n",
    "\\end{array}\n",
    "\\right]\n",
    "+\n",
    "\\left[\n",
    "\\begin{array}{ccc}\n",
    "1 & 0 & 2 \\\\\n",
    "1 & 0 & 2 \\\\\n",
    "1 & 0 & 2 \\\\\n",
    "1 & 0 & 2 \\\\\n",
    "\\end{array}\n",
    "\\right]\n",
    "$$"
   ]
  },
  {
   "cell_type": "code",
   "execution_count": null,
   "metadata": {},
   "outputs": [],
   "source": [
    "start = np.zeros((4,3))\n",
    "print(start)"
   ]
  },
  {
   "cell_type": "code",
   "execution_count": null,
   "metadata": {},
   "outputs": [],
   "source": [
    "# crea un ndarray 1 x 4 (array riga) con 3 valori\n",
    "add_rows = np.array([[1, 0, 2]])\n",
    "print(add_rows)"
   ]
  },
  {
   "cell_type": "code",
   "execution_count": null,
   "metadata": {},
   "outputs": [],
   "source": [
    "y = start + add_rows  # somma il vettore con ciascuna riga di 'start' grazie al broadcasting\n",
    "print(y)"
   ]
  },
  {
   "cell_type": "markdown",
   "metadata": {},
   "source": [
    "Esempio di broadcast lungo le colonne:\n",
    "$$\n",
    "\\left[\n",
    "\\begin{array}{ccc}\n",
    "0 & 0 & 0 \\\\\n",
    "0 & 0 & 0 \\\\\n",
    "0 & 0 & 0 \\\\\n",
    "0 & 0 & 0 \\\\\n",
    "\\end{array}\n",
    "\\right]\n",
    "+\n",
    "\\left[\n",
    "\\begin{array}{c}\n",
    "0 \\\\\n",
    "1 \\\\\n",
    "2 \\\\\n",
    "3 \\\\\n",
    "\\end{array}\n",
    "\\right]\n",
    "\\quad \\rightarrow \\quad\n",
    "\\left[\n",
    "\\begin{array}{ccc}\n",
    "0 & 0 & 0 \\\\\n",
    "1 & 1 & 1 \\\\\n",
    "2 & 2 & 2 \\\\\n",
    "3 & 3 & 3 \\\\\n",
    "\\end{array}\n",
    "\\right]\n",
    "$$"
   ]
  },
  {
   "cell_type": "code",
   "execution_count": null,
   "metadata": {},
   "outputs": [],
   "source": [
    "# crea un ndarray 4 x 1 (array colonna) per fare broadcast sulle colonne\n",
    "add_cols = np.array([[0, 1, 2, 3]])\n",
    "add_cols = add_cols.T # trasposta\n",
    "\n",
    "print(add_cols)"
   ]
  },
  {
   "cell_type": "code",
   "execution_count": null,
   "metadata": {},
   "outputs": [],
   "source": [
    "# somma l'array colonna con ciascuna colonna di 'start' grazie al broadcasting\n",
    "y = start + add_cols \n",
    "print(y)"
   ]
  },
  {
   "cell_type": "markdown",
   "metadata": {},
   "source": [
    "Esempio di broadcast lungo entrambe le dimensioni:\n",
    "$$\n",
    "\\left[\n",
    "\\begin{array}{ccc}\n",
    "0 & 0 & 0 \\\\\n",
    "0 & 0 & 0 \\\\\n",
    "0 & 0 & 0 \\\\\n",
    "0 & 0 & 0 \\\\\n",
    "\\end{array}\n",
    "\\right]\n",
    "+\n",
    "\\left[\n",
    "\\begin{array}{c}\n",
    "1\\\\\n",
    "\\end{array}\n",
    "\\right]\n",
    "\\quad \\rightarrow \\quad\n",
    "\\left[\n",
    "\\begin{array}{ccc}\n",
    "1 & 1 & 1 \\\\\n",
    "1 & 1 & 1 \\\\\n",
    "1 & 1 & 1 \\\\\n",
    "1 & 1 & 1 \\\\\n",
    "\\end{array}\n",
    "\\right]\n",
    "$$"
   ]
  },
  {
   "cell_type": "code",
   "execution_count": null,
   "metadata": {},
   "outputs": [],
   "source": [
    "# se sommiamo una matrice 1 x 1, il broadcast avverrà lungo entrambe le dimensioni dell'array start: \n",
    "add_scalar = np.array([[1]])  \n",
    "print(start + add_scalar)"
   ]
  },
  {
   "cell_type": "code",
   "execution_count": null,
   "metadata": {},
   "outputs": [],
   "source": [
    "# Avremmo anche potuto sommare direttamente il valore scalare a start: \n",
    "print(start + 1)"
   ]
  },
  {
   "cell_type": "markdown",
   "metadata": {
    "colab_type": "text",
    "id": "x6K_poVDPpAg"
   },
   "source": [
    "Allo stesso modo possiamo moltiplicare tutti gli elementi di un ndarray per una costante."
   ]
  },
  {
   "cell_type": "code",
   "execution_count": null,
   "metadata": {
    "colab": {},
    "colab_type": "code",
    "id": "tYjvXmvFPoPB"
   },
   "outputs": [],
   "source": [
    "print((start + 1) * 3)"
   ]
  },
  {
   "cell_type": "markdown",
   "metadata": {},
   "source": [
    "Ove necessario, possiamo riorganizzare la forma di un ndarray con il metodo `reshape`. Il metodo restituisce un nuovo ndarray in cui i contenuti sono gli stessi dell'originale, ma riorganizzati secondo la nuova forma. "
   ]
  },
  {
   "cell_type": "code",
   "execution_count": null,
   "metadata": {},
   "outputs": [],
   "source": [
    "arr = np.arange(20)\n",
    "print(arr)\n",
    "new_arr = arr.reshape(4,5)\n",
    "print(new_arr)"
   ]
  },
  {
   "cell_type": "markdown",
   "metadata": {},
   "source": [
    "## Prodotti scalari tra vettori, prodotto tra matrici, prodotto matrice-vettore\n",
    "\n",
    "Usiamo la funzione `np.dot(x, y)` per il prodotto scalare tra due vettori (array 1D) `x` e `y`. Il risultato è uno scalare."
   ]
  },
  {
   "cell_type": "code",
   "execution_count": null,
   "metadata": {},
   "outputs": [],
   "source": [
    "# calcoliamo il prodotto scalare tra due vettori\n",
    "x = np.array([9 , 9 ])\n",
    "y = np.array([10, 10])\n",
    "\n",
    "print(np.dot(x, y)) # si può scrivere anche x.dot(y)"
   ]
  },
  {
   "cell_type": "markdown",
   "metadata": {},
   "source": [
    "Usiamo `A @ B` per il prodotto tra due matrici (array 2D) `A` e `B`. Il risultato è una matrice. Calcoliamo ad esempio:\n",
    "\n",
    "$$\n",
    "\\left[ \\begin{array}{cc} 1 & 2 \\\\ 0 & 1 \\\\ \\end{array} \\right] \\cdot \n",
    "\\left[ \\begin{array}{cc} 0 & 1 \\\\ 1 & 0 \\\\ \\end{array} \\right]\n",
    "$$"
   ]
  },
  {
   "cell_type": "code",
   "execution_count": null,
   "metadata": {},
   "outputs": [],
   "source": [
    "# calcoliamo il prodotto tra due matrici\n",
    "A = np.array([[1, 2], [0, 1]])\n",
    "B = np.array([[0, 1], [1, 0]])\n",
    "\n",
    "print(A @ B)"
   ]
  },
  {
   "cell_type": "markdown",
   "metadata": {},
   "source": [
    "Usiamo `A @ x` per il prodotto tra una matrice `A` ed un vettore `x`. Il risultato è un vettore. "
   ]
  },
  {
   "cell_type": "code",
   "execution_count": null,
   "metadata": {},
   "outputs": [],
   "source": [
    "print(A @ x)"
   ]
  },
  {
   "cell_type": "markdown",
   "metadata": {},
   "source": [
    "Con la funzione `np.linalg.inv(A)` possiamo invertire una matrice quadrata `A` (non singolare). Questo ci permette per esempio di risolvere numericamente sistemi lineari. Si supponga di voler risolvere $A x = b$ quando\n",
    "\n",
    "$$\n",
    "A = \\left[ \\begin{array}{ccc} 1 & 3 & 4 \\\\ 9 & 1 & 2 \\\\ 5 & 6 & 1 \\end{array} \\right], \\qquad\n",
    "b = \\left[ \\begin{array}{c} 13 \\\\ 15 \\\\ 8 \\end{array} \\right]\n",
    "$$\n",
    "\n",
    "Considerando che la matrice $A$ è invertibile, la soluzione $x=[1, 0, 3]^\\top$ può essere trovata come $x=A^{-1} b$: "
   ]
  },
  {
   "cell_type": "code",
   "execution_count": null,
   "metadata": {},
   "outputs": [],
   "source": [
    "A = np.array([[1, 3, 4], [9, 1, 2], [5, 6, 1]])\n",
    "b = np.array([13, 15, 8])\n",
    "x = np.linalg.inv(A) @ b\n",
    "print(x)"
   ]
  },
  {
   "cell_type": "markdown",
   "metadata": {},
   "source": [
    "(Si veda anche il metodo `np.linalg.solve(A, b)` nella documentazione NumPy.) "
   ]
  },
  {
   "cell_type": "markdown",
   "metadata": {},
   "source": [
    "## Altre funzionalità utili\n",
    "Sugli ndarray possono essere invocati metodi che calcolano quantità aggregate, quali somma (`.sum()`) e media (`.mean()`)."
   ]
  },
  {
   "cell_type": "code",
   "execution_count": null,
   "metadata": {},
   "outputs": [],
   "source": [
    "arr = np.array([[1, 2], [3, 4]])\n",
    "print(arr)\n",
    "print(arr.sum()) # somma degli elementi\n",
    "print(arr.mean()) # media degli elementi\n",
    "print(arr.sum(axis = 1)) # somma riga per riga (aggrega le colonne)\n",
    "print(arr.sum(axis = 0)) # somma colonna per colonna (aggrega le righe)"
   ]
  },
  {
   "cell_type": "markdown",
   "metadata": {},
   "source": [
    "Possiamo scrivere e/o leggere i dati di un array da un file di testo tramite le funzioni `np.savetxt` e `np.loadtxt`. Ad esempio: "
   ]
  },
  {
   "cell_type": "code",
   "execution_count": null,
   "metadata": {},
   "outputs": [],
   "source": [
    "x = np.array([[10, 20], [30, 40]])\n",
    "np.savetxt('data/numpy1.txt', x, delimiter=',') # NB.: presuppone che esista una sottodirectory di nome 'data'\n",
    "y = np.loadtxt('data/numpy1.txt', delimiter=',')\n",
    "print(y)"
   ]
  },
  {
   "cell_type": "markdown",
   "metadata": {
    "colab_type": "text",
    "id": "hfYVa8iQTaUL"
   },
   "source": [
    "## Esercizio 1: Creare un dataset lineare\n",
    "\n",
    "**Senza utilizzare alcun ciclo** `for`, create un semplice dataset consistente di un'unica variabile di input (feature) e di una variabile di output (etichetta), come segue: \n",
    "\n",
    "1. Assegnate la sequenza degli interi da 6 a 20 (inclusi) ad un array NumPy di nome `feature`.\n",
    "2. Assegnate 15 valori ad un array NumPy di nome `label` tale che:\n",
    "\n",
    "```\n",
    "   label = (3)(feature) + 4\n",
    "```\n",
    "Per esempio, il primo valore di `label` dovrà essere: \n",
    "\n",
    "```\n",
    "  label = (3)(6) + 4 = 22\n",
    " ```"
   ]
  },
  {
   "cell_type": "code",
   "execution_count": null,
   "metadata": {
    "colab": {},
    "colab_type": "code",
    "id": "qK9UF2rUc3Y_"
   },
   "outputs": [],
   "source": [
    "# scrivere il proprio codice in questa cella"
   ]
  },
  {
   "cell_type": "markdown",
   "metadata": {
    "cellView": "both",
    "colab": {},
    "colab_type": "code",
    "id": "KjtIAYvMTPGl"
   },
   "source": [
    "Fare doppio-clic **qui** per una possibile soluzione all'Esercizio 1. \n",
    "<!--\n",
    "feature = np.arange(6, 21)\n",
    "print(feature)\n",
    "label = (feature * 3) + 4\n",
    "print(label)\n",
    "-->"
   ]
  },
  {
   "cell_type": "markdown",
   "metadata": {
    "colab_type": "text",
    "id": "RNsjGYRj87PB"
   },
   "source": [
    "## Esercizio 2: Aggiungere rumore al dataset\n",
    "\n",
    "Per rendere il vostro dataset più realistico, aggiungete un segnale di rumore su ogni elemento dell'array `label` appena creato. Più precisamente, modificate ciascun valore presente in `label` sommandovi un valore casuale (distinto) compreso tra -2 e +2. \n",
    "\n",
    "**Non utilizzate cicli `for`**. Create un array `noise` con la stessa dimensione di `label` e poi sommatelo a `label`. "
   ]
  },
  {
   "cell_type": "code",
   "execution_count": null,
   "metadata": {
    "colab": {},
    "colab_type": "code",
    "id": "HF-flFfs9r0q"
   },
   "outputs": [],
   "source": [
    "# scrivere il proprio codice in questa cella"
   ]
  },
  {
   "cell_type": "markdown",
   "metadata": {
    "cellView": "both",
    "colab": {},
    "colab_type": "code",
    "id": "7chgYKrC93np"
   },
   "source": [
    "Fare doppio-clic **qui** per una possibile soluzione all'Esercizio 2.\n",
    "<!--\n",
    "noise = (np.random.random([15]) * 4) - 2\n",
    "print(noise)\n",
    "label = label + noise \n",
    "print(label)\n",
    "-->"
   ]
  },
  {
   "cell_type": "code",
   "execution_count": null,
   "metadata": {},
   "outputs": [],
   "source": []
  }
 ],
 "metadata": {
  "colab": {
   "collapsed_sections": [],
   "name": "NumPy UltraQuick Tutorial",
   "private_outputs": true,
   "provenance": []
  },
  "kernelspec": {
   "display_name": "Python 3 (ipykernel)",
   "language": "python",
   "name": "python3"
  },
  "language_info": {
   "codemirror_mode": {
    "name": "ipython",
    "version": 3
   },
   "file_extension": ".py",
   "mimetype": "text/x-python",
   "name": "python",
   "nbconvert_exporter": "python",
   "pygments_lexer": "ipython3",
   "version": "3.9.7"
  }
 },
 "nbformat": 4,
 "nbformat_minor": 1
}
